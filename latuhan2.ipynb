{
  "nbformat": 4,
  "nbformat_minor": 0,
  "metadata": {
    "colab": {
      "provenance": [],
      "authorship_tag": "ABX9TyPWREj1q2IBSkU/OSHG1q37",
      "include_colab_link": true
    },
    "kernelspec": {
      "name": "python3",
      "display_name": "Python 3"
    },
    "language_info": {
      "name": "python"
    }
  },
  "cells": [
    {
      "cell_type": "markdown",
      "metadata": {
        "id": "view-in-github",
        "colab_type": "text"
      },
      "source": [
        "<a href=\"https://colab.research.google.com/github/NandaKori/struktur_data/blob/main/latuhan2.ipynb\" target=\"_parent\"><img src=\"https://colab.research.google.com/assets/colab-badge.svg\" alt=\"Open In Colab\"/></a>"
      ]
    },
    {
      "cell_type": "code",
      "execution_count": null,
      "metadata": {
        "colab": {
          "base_uri": "https://localhost:8080/"
        },
        "id": "Iq6nLFx4UU1C",
        "outputId": "e1154dc6-fd45-4de6-f3ce-1e096e1e1ae6"
      },
      "outputs": [
        {
          "output_type": "stream",
          "name": "stdout",
          "text": [
            "Array 2D:\n",
            "[[1 2 3]\n",
            " [4 5 6]\n",
            " [7 8 9]]\n",
            "\n",
            "Array 3D:\n",
            "[[[ 1  2  3  4]\n",
            "  [ 5  6  7  8]\n",
            "  [ 9 10 11 12]]\n",
            "\n",
            " [[13 14 15 16]\n",
            "  [17 18 19 20]\n",
            "  [21 22 23 24]]]\n"
          ]
        }
      ],
      "source": [
        "# Mengimpor library numpy\n",
        "import numpy as np\n",
        "\n",
        "# Membuat array 2D (matriks) dengan ukuran 3x3\n",
        "array_2d = np.array([[1, 2, 3],\n",
        "                     [4, 5, 6],\n",
        "                     [7, 8, 9]])\n",
        "\n",
        "print(\"Array 2D:\")\n",
        "print(array_2d)\n",
        "\n",
        "# Membuat array 3D dengan ukuran 2x3x4\n",
        "array_3d = np.array([[[1, 2, 3, 4],\n",
        "                      [5, 6, 7, 8],\n",
        "                      [9, 10, 11, 12]],\n",
        "\n",
        "                     [[13, 14, 15, 16],\n",
        "                      [17, 18, 19, 20],\n",
        "                      [21, 22, 23, 24]]])\n",
        "\n",
        "print(\"\\nArray 3D:\")\n",
        "print(array_3d)\n"
      ]
    },
    {
      "cell_type": "code",
      "source": [
        "import numpy as np\n",
        "\n",
        "# Membuat array 2D dengan nama-nama buah\n",
        "buah = np.array([[\"Apel\", \"Mangga\", \"Jeruk\"],\n",
        "                 [\"Pisang\", \"Semangka\", \"Melon\"]])\n",
        "\n",
        "# Cetak array buah\n",
        "print(\"Array Buah 2D:\")\n",
        "print(buah)\n"
      ],
      "metadata": {
        "colab": {
          "base_uri": "https://localhost:8080/"
        },
        "id": "QqXaYRrtZPNo",
        "outputId": "3328c212-772a-4c31-e8f1-d620edb215bd"
      },
      "execution_count": null,
      "outputs": [
        {
          "output_type": "stream",
          "name": "stdout",
          "text": [
            "Array Buah 2D:\n",
            "[['Apel' 'Mangga' 'Jeruk']\n",
            " ['Pisang' 'Semangka' 'Melon']]\n"
          ]
        }
      ]
    },
    {
      "cell_type": "code",
      "source": [
        "data = [[1,2,3], [4,5,6]]\n",
        "\n",
        "print(data[0][0])\n",
        "print(data[0][1])\n",
        "print(data[0][2])\n",
        "print(data[1][0])\n",
        "print(data[1][1])\n",
        "print(data[1][2])"
      ],
      "metadata": {
        "colab": {
          "base_uri": "https://localhost:8080/"
        },
        "id": "UWk3Dkt8aen8",
        "outputId": "d2fc5633-b22f-494b-a5c6-804b46449e05"
      },
      "execution_count": null,
      "outputs": [
        {
          "output_type": "stream",
          "name": "stdout",
          "text": [
            "1\n",
            "2\n",
            "3\n",
            "4\n",
            "5\n",
            "6\n"
          ]
        }
      ]
    },
    {
      "cell_type": "code",
      "source": [
        "data = [[[1, 2, 3], [4, 5, 6]], [['a', 'b', 'c'], ['d', 'e', 'f']]]\n",
        "\n",
        "print(data[0][0][0])\n",
        "print(data[0][0][1])\n",
        "print(data[0][0][2])\n",
        "print(data[0][1][0])\n",
        "print(data[0][1][1])\n",
        "print(data[0][1][2])\n",
        "print(data[1][0][0])\n",
        "print(data[1][0][1])\n",
        "print(data[1][0][2])\n",
        "print(data[1][1][0])\n",
        "print(data[1][1][1])\n",
        "print(data[1][1][2])\n"
      ],
      "metadata": {
        "colab": {
          "base_uri": "https://localhost:8080/"
        },
        "id": "-qnwwtpsdWLE",
        "outputId": "f430926f-1435-4b12-a98a-d22814a2bdbd"
      },
      "execution_count": null,
      "outputs": [
        {
          "output_type": "stream",
          "name": "stdout",
          "text": [
            "1\n",
            "2\n",
            "3\n",
            "4\n",
            "5\n",
            "6\n",
            "a\n",
            "b\n",
            "c\n",
            "d\n",
            "e\n",
            "f\n"
          ]
        }
      ]
    },
    {
      "cell_type": "code",
      "source": [
        "data = [[1,2,3], [4,5,6], [7,8,9]]\n",
        "\n",
        "for i in  range(len(data)):\n",
        "  for j in range(len(data[i])):\n",
        "    print(data[i][j])"
      ],
      "metadata": {
        "colab": {
          "base_uri": "https://localhost:8080/"
        },
        "id": "H5nw1fdFg4vm",
        "outputId": "3548638d-748d-442f-e48a-d1d9d9b8649b"
      },
      "execution_count": null,
      "outputs": [
        {
          "output_type": "stream",
          "name": "stdout",
          "text": [
            "1\n",
            "2\n",
            "3\n",
            "4\n",
            "5\n",
            "6\n",
            "7\n",
            "8\n",
            "9\n"
          ]
        }
      ]
    }
  ]
}