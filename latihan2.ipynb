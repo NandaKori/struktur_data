{
  "nbformat": 4,
  "nbformat_minor": 0,
  "metadata": {
    "colab": {
      "provenance": [],
      "authorship_tag": "ABX9TyOKKfUBfxCs/ypQnrwtJpse",
      "include_colab_link": true
    },
    "kernelspec": {
      "name": "python3",
      "display_name": "Python 3"
    },
    "language_info": {
      "name": "python"
    }
  },
  "cells": [
    {
      "cell_type": "markdown",
      "metadata": {
        "id": "view-in-github",
        "colab_type": "text"
      },
      "source": [
        "<a href=\"https://colab.research.google.com/github/NandaKori/struktur_data/blob/main/latihan2.ipynb\" target=\"_parent\"><img src=\"https://colab.research.google.com/assets/colab-badge.svg\" alt=\"Open In Colab\"/></a>"
      ]
    },
    {
      "cell_type": "code",
      "execution_count": null,
      "metadata": {
        "colab": {
          "base_uri": "https://localhost:8080/"
        },
        "id": "Iq6nLFx4UU1C",
        "outputId": "e1154dc6-fd45-4de6-f3ce-1e096e1e1ae6"
      },
      "outputs": [
        {
          "output_type": "stream",
          "name": "stdout",
          "text": [
            "Array 2D:\n",
            "[[1 2 3]\n",
            " [4 5 6]\n",
            " [7 8 9]]\n",
            "\n",
            "Array 3D:\n",
            "[[[ 1  2  3  4]\n",
            "  [ 5  6  7  8]\n",
            "  [ 9 10 11 12]]\n",
            "\n",
            " [[13 14 15 16]\n",
            "  [17 18 19 20]\n",
            "  [21 22 23 24]]]\n"
          ]
        }
      ],
      "source": [
        "# Mengimpor library numpy\n",
        "import numpy as np\n",
        "\n",
        "# Membuat array 2D (matriks) dengan ukuran 3x3\n",
        "array_2d = np.array([[1, 2, 3],\n",
        "                     [4, 5, 6],\n",
        "                     [7, 8, 9]])\n",
        "\n",
        "print(\"Array 2D:\")\n",
        "print(array_2d)\n",
        "\n",
        "# Membuat array 3D dengan ukuran 2x3x4\n",
        "array_3d = np.array([[[1, 2, 3, 4],\n",
        "                      [5, 6, 7, 8],\n",
        "                      [9, 10, 11, 12]],\n",
        "\n",
        "                     [[13, 14, 15, 16],\n",
        "                      [17, 18, 19, 20],\n",
        "                      [21, 22, 23, 24]]])\n",
        "\n",
        "print(\"\\nArray 3D:\")\n",
        "print(array_3d)\n"
      ]
    },
    {
      "cell_type": "code",
      "source": [
        "import numpy as np\n",
        "\n",
        "# Membuat array 2D dengan nama-nama buah\n",
        "buah = np.array([[\"Apel\", \"Mangga\", \"Jeruk\"],\n",
        "                 [\"Pisang\", \"Semangka\", \"Melon\"]])\n",
        "\n",
        "# Cetak array buah\n",
        "print(\"Array Buah 2D:\")\n",
        "print(buah)\n"
      ],
      "metadata": {
        "colab": {
          "base_uri": "https://localhost:8080/"
        },
        "id": "QqXaYRrtZPNo",
        "outputId": "3328c212-772a-4c31-e8f1-d620edb215bd"
      },
      "execution_count": null,
      "outputs": [
        {
          "output_type": "stream",
          "name": "stdout",
          "text": [
            "Array Buah 2D:\n",
            "[['Apel' 'Mangga' 'Jeruk']\n",
            " ['Pisang' 'Semangka' 'Melon']]\n"
          ]
        }
      ]
    },
    {
      "cell_type": "code",
      "source": [
        "data = [[1,2,3], [4,5,6]]\n",
        "\n",
        "print(data[0][0])\n",
        "print(data[0][1])\n",
        "print(data[0][2])\n",
        "print(data[1][0])\n",
        "print(data[1][1])\n",
        "print(data[1][2])"
      ],
      "metadata": {
        "colab": {
          "base_uri": "https://localhost:8080/"
        },
        "id": "UWk3Dkt8aen8",
        "outputId": "d2fc5633-b22f-494b-a5c6-804b46449e05"
      },
      "execution_count": null,
      "outputs": [
        {
          "output_type": "stream",
          "name": "stdout",
          "text": [
            "1\n",
            "2\n",
            "3\n",
            "4\n",
            "5\n",
            "6\n"
          ]
        }
      ]
    },
    {
      "cell_type": "code",
      "source": [
        "data = [[[1, 2, 3], [4, 5, 6]], [['a', 'b', 'c'], ['d', 'e', 'f']]]\n",
        "\n",
        "print(data[0][0][0])\n",
        "print(data[0][0][1])\n",
        "print(data[0][0][2])\n",
        "print(data[0][1][0])\n",
        "print(data[0][1][1])\n",
        "print(data[0][1][2])\n",
        "print(data[1][0][0])\n",
        "print(data[1][0][1])\n",
        "print(data[1][0][2])\n",
        "print(data[1][1][0])\n",
        "print(data[1][1][1])\n",
        "print(data[1][1][2])\n"
      ],
      "metadata": {
        "colab": {
          "base_uri": "https://localhost:8080/"
        },
        "id": "-qnwwtpsdWLE",
        "outputId": "f430926f-1435-4b12-a98a-d22814a2bdbd"
      },
      "execution_count": null,
      "outputs": [
        {
          "output_type": "stream",
          "name": "stdout",
          "text": [
            "1\n",
            "2\n",
            "3\n",
            "4\n",
            "5\n",
            "6\n",
            "a\n",
            "b\n",
            "c\n",
            "d\n",
            "e\n",
            "f\n"
          ]
        }
      ]
    },
    {
      "cell_type": "code",
      "source": [
        "data = [[1,2,3], [4,5,6], [7,8,9]]\n",
        "\n",
        "for i in  range(len(data)):\n",
        "  for j in range(len(data[i])):\n",
        "    print(data[i][j])"
      ],
      "metadata": {
        "colab": {
          "base_uri": "https://localhost:8080/"
        },
        "id": "H5nw1fdFg4vm",
        "outputId": "3548638d-748d-442f-e48a-d1d9d9b8649b"
      },
      "execution_count": null,
      "outputs": [
        {
          "output_type": "stream",
          "name": "stdout",
          "text": [
            "1\n",
            "2\n",
            "3\n",
            "4\n",
            "5\n",
            "6\n",
            "7\n",
            "8\n",
            "9\n"
          ]
        }
      ]
    },
    {
      "cell_type": "code",
      "source": [
        "data = [[1, 2, 3], [4, 5, 6], [7, 8, 9]]\n",
        "\n",
        "for i in range(len(data)):\n",
        "    total_per_baris = 0\n",
        "    for j in range(len(data[i])):\n",
        "        print(data[i][j])\n",
        "        total_per_baris += data[i][j]\n",
        "    print(\"Total per baris:\", total_per_baris)\n"
      ],
      "metadata": {
        "colab": {
          "base_uri": "https://localhost:8080/"
        },
        "id": "PyX6MCRSjP3a",
        "outputId": "9655c5b5-5fca-4ef8-85b8-fc7a660a1001"
      },
      "execution_count": 9,
      "outputs": [
        {
          "output_type": "stream",
          "name": "stdout",
          "text": [
            "1\n",
            "2\n",
            "3\n",
            "Total per baris: 6\n",
            "4\n",
            "5\n",
            "6\n",
            "Total per baris: 15\n",
            "7\n",
            "8\n",
            "9\n",
            "Total per baris: 24\n"
          ]
        }
      ]
    },
    {
      "cell_type": "code",
      "source": [
        "data = [[1, 2, 3], [4, 5, 6], [7, 8, 9]]\n",
        "\n",
        "for i in range(len(data)):\n",
        "    total = 0\n",
        "    for j in range(len(data[i])):\n",
        "        total = total + data[i][j]\n",
        "    print('Total = ', total)\n"
      ],
      "metadata": {
        "colab": {
          "base_uri": "https://localhost:8080/"
        },
        "id": "DDI2P4Q2n3iq",
        "outputId": "0adfb81b-a033-48d6-e2f2-641727bc6d02"
      },
      "execution_count": 14,
      "outputs": [
        {
          "output_type": "stream",
          "name": "stdout",
          "text": [
            "Total =  6\n",
            "Total =  15\n",
            "Total =  24\n"
          ]
        }
      ]
    },
    {
      "cell_type": "code",
      "source": [
        "data = [[1, 2, 3], [4, 5, 6], [7, 8, 9]]\n",
        "\n",
        "for row in data:\n",
        "    smallest = min(row)\n",
        "    print(\"Data terkecil :\", smallest)\n"
      ],
      "metadata": {
        "colab": {
          "base_uri": "https://localhost:8080/"
        },
        "id": "pe2MHZSBksSr",
        "outputId": "b8d65442-f461-4d02-94ec-cd432ef20bb7"
      },
      "execution_count": 11,
      "outputs": [
        {
          "output_type": "stream",
          "name": "stdout",
          "text": [
            "Data terkecil : 1\n",
            "Data terkecil : 4\n",
            "Data terkecil : 7\n"
          ]
        }
      ]
    },
    {
      "cell_type": "code",
      "source": [
        "data = [[1, 2, 3], [4, 5, 6], [7, 8, 9]]\n",
        "\n",
        "for i in range(len(data)):\n",
        "    smallest = data[i][0]\n",
        "    for j in range(1, len(data[i])):\n",
        "        if data[i][j] < smallest:\n",
        "            smallest = data[i][j]\n",
        "    print(\"Data terkecil pada baris\", i+1, \":\", smallest)\n"
      ],
      "metadata": {
        "colab": {
          "base_uri": "https://localhost:8080/"
        },
        "id": "cNeAWH51nRI8",
        "outputId": "433a1d17-9985-40fe-98ff-11e024fdc52f"
      },
      "execution_count": 12,
      "outputs": [
        {
          "output_type": "stream",
          "name": "stdout",
          "text": [
            "Data terkecil pada baris 1 : 1\n",
            "Data terkecil pada baris 2 : 4\n",
            "Data terkecil pada baris 3 : 7\n"
          ]
        }
      ]
    },
    {
      "cell_type": "code",
      "source": [
        "data = [[1, 2, 3], [4, 5, 6], [7, 8, 9]]\n",
        "\n",
        "for i in range(len(data)):\n",
        "    min = 9999\n",
        "    for j in range(len(data[i])):\n",
        "        if(data[i][j] < min):\n",
        "          min = data[i][j]\n",
        "    print('Nilai Terkecil = ', min)"
      ],
      "metadata": {
        "colab": {
          "base_uri": "https://localhost:8080/"
        },
        "id": "8YnzrEt8rvjk",
        "outputId": "82dcf9cc-2589-4ebd-c991-9fcfb712a88f"
      },
      "execution_count": 15,
      "outputs": [
        {
          "output_type": "stream",
          "name": "stdout",
          "text": [
            "Nilai Terkecil =  1\n",
            "Nilai Terkecil =  4\n",
            "Nilai Terkecil =  7\n"
          ]
        }
      ]
    }
  ]
}