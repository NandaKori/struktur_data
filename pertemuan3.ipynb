{
  "cells": [
    {
      "cell_type": "markdown",
      "metadata": {
        "id": "view-in-github",
        "colab_type": "text"
      },
      "source": [
        "<a href=\"https://colab.research.google.com/github/NandaKori/struktur_data/blob/main/pertemuan3.ipynb\" target=\"_parent\"><img src=\"https://colab.research.google.com/assets/colab-badge.svg\" alt=\"Open In Colab\"/></a>"
      ]
    },
    {
      "cell_type": "code",
      "execution_count": 5,
      "metadata": {
        "colab": {
          "base_uri": "https://localhost:8080/"
        },
        "id": "mzGPH6YwuBOc",
        "outputId": "63d6b025-72bd-4138-b670-2674fa3c7fbe"
      },
      "outputs": [
        {
          "output_type": "stream",
          "name": "stdout",
          "text": [
            "ini fungsi\n",
            "haloo\n",
            "300\n",
            "15\n"
          ]
        }
      ],
      "source": [
        "def cetakFungsi():\n",
        "    print('ini fungsi')\n",
        "    print('haloo')\n",
        "cetakFungsi()\n",
        "\n",
        "def penjumlahan(bil1, bil2):\n",
        "    print(bil1 + bil2);\n",
        "\n",
        "penjumlahan(100, 200)\n",
        "penjumlahan(5, 10)"
      ]
    },
    {
      "cell_type": "code",
      "source": [
        "def faktorial(bil):\n",
        "  if(bil == 1):\n",
        "    return 1\n",
        "\n",
        "    return bil * faktorial(bil - 1)\n",
        "\n",
        "  hasil = faktorial(5)\n",
        "  print(hasil)\n"
      ],
      "metadata": {
        "id": "UDDzBK_-6IN2"
      },
      "execution_count": 9,
      "outputs": []
    },
    {
      "cell_type": "code",
      "source": [
        "def faktorial(bil):\n",
        "    if bil == 1:\n",
        "        return 1\n",
        "    return bil * faktorial(bil - 1)\n",
        "\n",
        "hasil = faktorial(5)\n",
        "print(hasil)\n"
      ],
      "metadata": {
        "colab": {
          "base_uri": "https://localhost:8080/"
        },
        "id": "tI7uktlo9tm4",
        "outputId": "517f55d3-0128-4147-f15f-9cc7e825af9b"
      },
      "execution_count": 11,
      "outputs": [
        {
          "output_type": "stream",
          "name": "stdout",
          "text": [
            "120\n"
          ]
        }
      ]
    },
    {
      "cell_type": "code",
      "source": [
        "def fibonaci(max):\n",
        "    if max <= 1:\n",
        "        return max\n",
        "    return fibonaci(max-1) + fibonaci(max-2)\n",
        "\n",
        "fibonaci(4)\n"
      ],
      "metadata": {
        "colab": {
          "base_uri": "https://localhost:8080/"
        },
        "id": "tuXgjkSU-LAU",
        "outputId": "507cdacd-60b9-4669-a88e-976e903b3473"
      },
      "execution_count": 22,
      "outputs": [
        {
          "output_type": "execute_result",
          "data": {
            "text/plain": [
              "3"
            ]
          },
          "metadata": {},
          "execution_count": 22
        }
      ]
    },
    {
      "cell_type": "code",
      "source": [
        "def fibonacci(max):\n",
        "    if max <= 1:\n",
        "        return max\n",
        "    return fibonacci(max-1) + fibonacci(max-2)\n",
        "\n",
        "for i in range(10):\n",
        "    hasil = fibonacci(i)\n",
        "    print(hasil)\n"
      ],
      "metadata": {
        "colab": {
          "base_uri": "https://localhost:8080/"
        },
        "id": "tIx_GhpUCp3m",
        "outputId": "7d92cee9-dc4f-4bc5-ebbc-1e0cb6a78a94"
      },
      "execution_count": 23,
      "outputs": [
        {
          "output_type": "stream",
          "name": "stdout",
          "text": [
            "0\n",
            "1\n",
            "1\n",
            "2\n",
            "3\n",
            "5\n",
            "8\n",
            "13\n",
            "21\n",
            "34\n"
          ]
        }
      ]
    },
    {
      "cell_type": "code",
      "source": [
        "def deretBilangan(max):\n",
        "    if max <= 0:\n",
        "        return 0\n",
        "    elif max == 1:\n",
        "        return 1\n",
        "    elif max >= 20:\n",
        "        return max\n",
        "    return deretBilangan(max-1) + deretBilangan(max-2)\n",
        "\n",
        "hasil = deretBilangan(10)\n",
        "print(hasil)\n"
      ],
      "metadata": {
        "colab": {
          "base_uri": "https://localhost:8080/"
        },
        "id": "V58irBLD_iVg",
        "outputId": "f6fe7c21-5947-4e07-9030-7356e56727ee"
      },
      "execution_count": 17,
      "outputs": [
        {
          "output_type": "stream",
          "name": "stdout",
          "text": [
            "55\n"
          ]
        }
      ]
    },
    {
      "cell_type": "code",
      "source": [],
      "metadata": {
        "id": "00OCpgGEFUXM"
      },
      "execution_count": null,
      "outputs": []
    }
  ],
  "metadata": {
    "colab": {
      "provenance": [],
      "authorship_tag": "ABX9TyM3+Ux73K6eQmiUGJAqj+C/",
      "include_colab_link": true
    },
    "kernelspec": {
      "display_name": "Python 3",
      "name": "python3"
    },
    "language_info": {
      "name": "python"
    }
  },
  "nbformat": 4,
  "nbformat_minor": 0
}