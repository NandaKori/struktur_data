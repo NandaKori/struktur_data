{
  "nbformat": 4,
  "nbformat_minor": 0,
  "metadata": {
    "colab": {
      "provenance": [],
      "authorship_tag": "ABX9TyMgKa9nGr2/V3NAxy03oOHk",
      "include_colab_link": true
    },
    "kernelspec": {
      "name": "python3",
      "display_name": "Python 3"
    },
    "language_info": {
      "name": "python"
    }
  },
  "cells": [
    {
      "cell_type": "markdown",
      "metadata": {
        "id": "view-in-github",
        "colab_type": "text"
      },
      "source": [
        "<a href=\"https://colab.research.google.com/github/NandaKori/struktur_data/blob/main/tree.ipynb\" target=\"_parent\"><img src=\"https://colab.research.google.com/assets/colab-badge.svg\" alt=\"Open In Colab\"/></a>"
      ]
    },
    {
      "cell_type": "code",
      "execution_count": 2,
      "metadata": {
        "colab": {
          "base_uri": "https://localhost:8080/"
        },
        "id": "GT_JD2KyXZhg",
        "outputId": "43eaddab-fdf0-4bce-bb92-71b6feed6e06"
      },
      "outputs": [
        {
          "output_type": "stream",
          "name": "stdout",
          "text": [
            "Tono\n",
            "-Anton\n",
            "--Tini\n",
            "--Tina\n",
            "--WonderLand\n",
            "-Rani\n",
            "--Kame\n",
            "--Hame\n",
            "--Haaa\n"
          ]
        }
      ],
      "source": [
        "class TreeNode:\n",
        "    def __init__(self, data):\n",
        "        self.data = data\n",
        "        self.children = []\n",
        "\n",
        "    def add_child(self, child_node):\n",
        "        self.children.append(child_node)\n",
        "\n",
        "def print_tree(node, level=0):\n",
        "    print(\"-\" * level + node.data)\n",
        "    for child in node.children:\n",
        "        print_tree(child, level + 1)\n",
        "\n",
        "tono = TreeNode(\"Tono\")\n",
        "\n",
        "anton = TreeNode(\"Anton\")\n",
        "anton.add_child(TreeNode(\"Tini\"))\n",
        "anton.add_child(TreeNode(\"Tina\"))\n",
        "anton.add_child(TreeNode(\"WonderLand\"))\n",
        "\n",
        "rani = TreeNode(\"Rani\")\n",
        "rani.add_child(TreeNode(\"Kame\"))\n",
        "rani.add_child(TreeNode(\"Hame\"))\n",
        "rani.add_child(TreeNode(\"Haaa\"))\n",
        "\n",
        "tono.add_child(anton)\n",
        "tono.add_child(rani)\n",
        "\n",
        "# Memanggil fungsi untuk mencetak pohon\n",
        "print_tree(tono)\n"
      ]
    }
  ]
}